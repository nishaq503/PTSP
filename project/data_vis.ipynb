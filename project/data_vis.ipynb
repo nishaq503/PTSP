{
 "cells": [
  {
   "cell_type": "markdown",
   "metadata": {},
   "source": [
    "# Visualizing CASP Data"
   ]
  },
  {
   "cell_type": "code",
   "execution_count": 1,
   "metadata": {},
   "outputs": [],
   "source": [
    "import matplotlib.pyplot as plt\n",
    "import pandas as pd\n",
    "import numpy as np"
   ]
  },
  {
   "cell_type": "code",
   "execution_count": 179,
   "metadata": {},
   "outputs": [],
   "source": [
    "def make_training_example(lines):\n",
    "    \"\"\"\n",
    "    Takes lines read from file and created a training example.\n",
    "    \"\"\"\n",
    "    example = {}\n",
    "    \n",
    "    example['id'] = lines[1].rstrip()\n",
    "    example['primary'] = lines[3].rstrip()\n",
    "    \n",
    "    pssm = []\n",
    "    for i in range(5, 26):\n",
    "        pssm.append([float(x) for x in lines[i].split()])\n",
    "    example['pssm'] = pssm\n",
    "    \n",
    "    tertiary = []\n",
    "    for i in range(27, 30):\n",
    "        tertiary.append([float(x) for x in lines[i].split()])\n",
    "    example['tertiary'] = tertiary\n",
    "    \n",
    "    example['mask'] = lines[31].rstrip()\n",
    "    \n",
    "    return example"
   ]
  },
  {
   "cell_type": "code",
   "execution_count": 180,
   "metadata": {},
   "outputs": [],
   "source": [
    "def get_tertiary_matrix(tertiary, i):\n",
    "    x = tertiary[0][3 * i], tertiary[0][3 * i + 1], tertiary[0][3 * i + 2]\n",
    "    y = tertiary[1][3 * i], tertiary[1][3 * i + 1], tertiary[1][3 * i + 2]\n",
    "    z = tertiary[2][3 * i], tertiary[2][3 * i + 1], tertiary[2][3 * i + 2]\n",
    "    return x, y, z"
   ]
  },
  {
   "cell_type": "code",
   "execution_count": 182,
   "metadata": {},
   "outputs": [],
   "source": [
    "with open('data/casp11/training_100', 'r') as raw_data:\n",
    "    lines = []\n",
    "    flag = False\n",
    "    for line in raw_data:\n",
    "        lines.append(line)\n",
    "        if len(lines) == 33:\n",
    "            example = make_training_example(lines)\n",
    "            lines = []\n",
    "    \n",
    "        dssp_file = example['id'][:4].lower() + '.dssp'\n",
    "        with open('data/dssp/' + dssp_file, 'r') as raw_dssp:\n",
    "            secondary = [''] * len(example['primary'])\n",
    "            flag = False\n",
    "            for line in raw_dssp:\n",
    "                if flag or ('#' in line):\n",
    "                    if not flag:\n",
    "                        flag = True\n",
    "                        continue\n",
    "                if flag:\n",
    "                    if line[7:10] == '   ':\n",
    "                        continue\n",
    "                    i, d = int(line[7:10]), line[16]\n",
    "                    if i >= len(example['primary']):\n",
    "                        break\n",
    "                    if d == ' ':\n",
    "                        d = 'C'\n",
    "                    secondary[i-1] = d\n",
    "            else:\n",
    "                example['secondary'] = ''.join(secondary)\n",
    "                with open('data/processed/test.txt', 'a') as out_file:\n",
    "                    out_file.write('id')\n",
    "                    out_file.write(example['id'])\n",
    "                    out_file.write('primary')\n",
    "                    out_file.write(example['primary'])\n",
    "                    out_file.write('pssm')\n",
    "                    out_file.write(example['pssm']) # Needs to go from list of lists of floats to multiline string\n",
    "                    out_file.write('secondary')\n",
    "                    out_file.write(example['secondary'])\n",
    "                    out_file.write('tertiary')\n",
    "                    out_file.write(example['tertiary']) # Needs to go from list of lists of floats to multiline string\n",
    "                    out_file.write('mask')\n",
    "                    out_file.write(example['mask'])\n",
    "        break"
   ]
  },
  {
   "cell_type": "code",
   "execution_count": 184,
   "metadata": {},
   "outputs": [
    {
     "name": "stdout",
     "output_type": "stream",
     "text": [
      "6\n"
     ]
    }
   ],
   "source": [
    "print(len(example))"
   ]
  },
  {
   "cell_type": "code",
   "execution_count": 187,
   "metadata": {},
   "outputs": [
    {
     "name": "stdout",
     "output_type": "stream",
     "text": [
      "200 146\n"
     ]
    }
   ],
   "source": [
    "print(len(example['primary']), len(example['secondary']))"
   ]
  },
  {
   "cell_type": "code",
   "execution_count": 188,
   "metadata": {},
   "outputs": [
    {
     "name": "stdout",
     "output_type": "stream",
     "text": [
      "-------------------------++++++++++++++++++++++++++++++++++++++++++++++++++++++++++++++++++++++++++++++++++++++++++++++++++++++++++++++++++++++++++++++++++++++++++++++++------------------------------- 56 144\n"
     ]
    }
   ],
   "source": [
    "print(example['mask'], example['mask'].count('-'), example['mask'].count('+'))"
   ]
  },
  {
   "cell_type": "code",
   "execution_count": 200,
   "metadata": {},
   "outputs": [
    {
     "name": "stdout",
     "output_type": "stream",
     "text": [
      "1.0000000000000004\n"
     ]
    }
   ],
   "source": [
    "print(sum(example['pssm'][:, 23]) - example['pssm'][:, 23][-1])"
   ]
  },
  {
   "cell_type": "code",
   "execution_count": null,
   "metadata": {},
   "outputs": [],
   "source": []
  }
 ],
 "metadata": {
  "kernelspec": {
   "display_name": ".ptsp",
   "language": "python",
   "name": ".ptsp"
  },
  "language_info": {
   "codemirror_mode": {
    "name": "ipython",
    "version": 3
   },
   "file_extension": ".py",
   "mimetype": "text/x-python",
   "name": "python",
   "nbconvert_exporter": "python",
   "pygments_lexer": "ipython3",
   "version": "3.6.7"
  }
 },
 "nbformat": 4,
 "nbformat_minor": 2
}

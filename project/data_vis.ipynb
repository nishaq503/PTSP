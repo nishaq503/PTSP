{
 "cells": [
  {
   "cell_type": "markdown",
   "metadata": {},
   "source": [
    "# Visualizing CASP Data"
   ]
  },
  {
   "cell_type": "code",
   "execution_count": 1,
   "metadata": {},
   "outputs": [],
   "source": [
    "import matplotlib.pyplot as plt\n",
    "import pandas as pd\n",
    "import numpy as np"
   ]
  },
  {
   "cell_type": "code",
   "execution_count": 2,
   "metadata": {},
   "outputs": [],
   "source": [
    "def make_training_example(lines):\n",
    "    \"\"\"\n",
    "    Takes lines read from file and created a training example.\n",
    "    \"\"\"\n",
    "    example = {}\n",
    "    \n",
    "    example['id'] = lines[1].rstrip()\n",
    "    example['primary'] = lines[3].rstrip()\n",
    "    \n",
    "    pssm = []\n",
    "    for i in range(5, 26):\n",
    "        pssm.append([float(x) for x in lines[i].split()])\n",
    "    example['pssm'] = pssm\n",
    "    \n",
    "    tertiary = []\n",
    "    for i in range(27, 30):\n",
    "        tertiary.append([float(x) for x in lines[i].split()])\n",
    "    example['tertiary'] = tertiary\n",
    "    \n",
    "    example['mask'] = lines[31].rstrip()\n",
    "    \n",
    "    return example"
   ]
  },
  {
   "cell_type": "code",
   "execution_count": 9,
   "metadata": {},
   "outputs": [
    {
     "data": {
      "text/plain": [
       "5"
      ]
     },
     "execution_count": 9,
     "metadata": {},
     "output_type": "execute_result"
    }
   ],
   "source": [
    "with open('data/text_based/training/training_30', 'r') as raw_data:\n",
    "    lines = []\n",
    "    for line in raw_data:\n",
    "        lines.append(line)\n",
    "        if len(lines) == 33:\n",
    "            example = make_training_example(lines)\n",
    "            break\n",
    "len(example)"
   ]
  },
  {
   "cell_type": "code",
   "execution_count": 30,
   "metadata": {},
   "outputs": [],
   "source": [
    "def get_tertiary_matrix(tertiary, i):\n",
    "    x = tertiary[0][3 * i], tertiary[0][3 * i + 1], tertiary[0][3 * i + 2]\n",
    "    y = tertiary[1][3 * i], tertiary[1][3 * i + 1], tertiary[1][3 * i + 2]\n",
    "    z = tertiary[2][3 * i], tertiary[2][3 * i + 1], tertiary[2][3 * i + 2]\n",
    "    return x, y, z"
   ]
  },
  {
   "cell_type": "code",
   "execution_count": 31,
   "metadata": {},
   "outputs": [
    {
     "name": "stdout",
     "output_type": "stream",
     "text": [
      "K\n",
      "((2841.8, 2873.4, 2919.7), (-864.7, -957.9, -877.0), (-6727.1, -6616.3, -6496.2))\n",
      "Y\n",
      "((2883.1, 2935.1, 2956.3), (-924.6, -875.1, -995.3), (-6377.8, -6251.2, -6159.3))\n",
      "Y\n",
      "((3002.6, 3022.5, 3148.1), (-1105.5, -1233.7, -1302.1), (-6219.0, -6152.1, -6207.9))\n",
      "H\n",
      "((3266.2, 3392.6, 3461.0), (-1264.3, -1319.4, -1419.0), (-6159.5, -6212.8, -6118.0))\n",
      "A\n",
      "((3523.8, 3582.0, 3706.7), (-1519.8, -1629.4, -1678.7), (-6177.4, -6103.0, -6174.7))\n",
      "N\n",
      "((3822.3, 3952.8, 4000.8), (-1626.4, -1659.3, -1800.9), (-6133.5, -6192.3, -6157.1))\n",
      "S\n",
      "((3960.1, 3999.5, 4003.8), (-1899.0, -2040.1, -2118.9), (-6238.3, -6219.8, -6350.4))\n",
      "T\n",
      "((4057.7, 4066.6, 4026.3), (-2240.4, -2329.8, -2476.2), (-6342.7, -6458.4, -6430.6))\n",
      "E\n",
      "((4012.5, 3993.2, 3848.5), (-2513.0, -2653.1, -2701.7), (-6303.0, -6263.5, -6286.9))\n",
      "E\n",
      "((3815.2, 3682.6, 3569.7), (-2820.8, -2878.8, -2782.0), (-6235.6, -6260.6, -6223.2))\n",
      "D\n",
      "((3465.5, 3361.3, 3264.5), (-2783.4, -2681.1, -2700.6), (-6305.3, -6305.1, -6188.5))\n"
     ]
    }
   ],
   "source": [
    "count = 0\n",
    "for i in range(len(example['mask'])):\n",
    "    if example['mask'][i] == \"+\":\n",
    "        print(example['primary'][i])\n",
    "        print(get_tertiary_matrix(example['tertiary'], i))\n",
    "        count += 1\n",
    "        if count > 10:\n",
    "            break"
   ]
  },
  {
   "cell_type": "code",
   "execution_count": null,
   "metadata": {},
   "outputs": [],
   "source": []
  }
 ],
 "metadata": {
  "kernelspec": {
   "display_name": ".casp",
   "language": "python",
   "name": ".casp"
  },
  "language_info": {
   "codemirror_mode": {
    "name": "ipython",
    "version": 3
   },
   "file_extension": ".py",
   "mimetype": "text/x-python",
   "name": "python",
   "nbconvert_exporter": "python",
   "pygments_lexer": "ipython3",
   "version": "3.6.7"
  }
 },
 "nbformat": 4,
 "nbformat_minor": 2
}

{
 "cells": [
  {
   "cell_type": "markdown",
   "metadata": {},
   "source": [
    "# Visualizing CASP Data"
   ]
  },
  {
   "cell_type": "code",
   "execution_count": 1,
   "metadata": {},
   "outputs": [],
   "source": [
    "import matplotlib.pyplot as plt\n",
    "import pandas as pd\n",
    "import numpy as np"
   ]
  },
  {
   "cell_type": "code",
   "execution_count": 2,
   "metadata": {},
   "outputs": [],
   "source": [
    "def make_training_example(lines):\n",
    "    \"\"\"\n",
    "    Takes lines read from file and created a training example.\n",
    "    \"\"\"\n",
    "    example = {}\n",
    "    \n",
    "    example['id'] = lines[1].rstrip()\n",
    "    example['primary'] = lines[3].rstrip()\n",
    "    \n",
    "    pssm = []\n",
    "    for i in range(5, 26):\n",
    "        pssm.append([float(x) for x in lines[i].split()])\n",
    "    example['pssm'] = pssm\n",
    "    \n",
    "    tertiary = []\n",
    "    for i in range(27, 30):\n",
    "        tertiary.append([float(x) for x in lines[i].split()])\n",
    "    example['tertiary'] = tertiary\n",
    "    \n",
    "    example['mask'] = lines[31].rstrip()\n",
    "    \n",
    "    return example"
   ]
  },
  {
   "cell_type": "code",
   "execution_count": 3,
   "metadata": {},
   "outputs": [],
   "source": [
    "def get_tertiary_matrix(tertiary, i):\n",
    "    x = tertiary[0][3 * i], tertiary[0][3 * i + 1], tertiary[0][3 * i + 2]\n",
    "    y = tertiary[1][3 * i], tertiary[1][3 * i + 1], tertiary[1][3 * i + 2]\n",
    "    z = tertiary[2][3 * i], tertiary[2][3 * i + 1], tertiary[2][3 * i + 2]\n",
    "    return x, y, z"
   ]
  },
  {
   "cell_type": "code",
   "execution_count": 11,
   "metadata": {},
   "outputs": [],
   "source": [
    "with open('data/casp11/training_100', 'r') as raw_data:\n",
    "    lines = []\n",
    "    flag = False\n",
    "    for line in raw_data:\n",
    "        lines.append(line)\n",
    "        if len(lines) == 33:\n",
    "            example = make_training_example(lines)\n",
    "            lines = []\n",
    "            break"
   ]
  },
  {
   "cell_type": "code",
   "execution_count": 24,
   "metadata": {},
   "outputs": [
    {
     "name": "stdout",
     "output_type": "stream",
     "text": [
      "119\n"
     ]
    }
   ],
   "source": [
    "print(len(example['primary']))"
   ]
  },
  {
   "cell_type": "code",
   "execution_count": 23,
   "metadata": {},
   "outputs": [
    {
     "name": "stdout",
     "output_type": "stream",
     "text": [
      "2B6G_2_A\n"
     ]
    }
   ],
   "source": [
    "print(example['id'])"
   ]
  },
  {
   "cell_type": "code",
   "execution_count": 32,
   "metadata": {},
   "outputs": [],
   "source": [
    "dssp_file = example['id'][:4].lower() + '.dssp'\n",
    "with open('data/dssp/' + dssp_file, 'r') as raw_dssp:\n",
    "    secondary = []\n",
    "    flag = False\n",
    "    for line in raw_dssp:\n",
    "        if flag or ('#' in line):\n",
    "            if not flag:\n",
    "                flag = True\n",
    "                continue\n",
    "        if flag:\n",
    "            if line[7:10] == '   ':\n",
    "                continue\n",
    "            p, s = line[13], line[16]\n",
    "            if s == ' ':\n",
    "                s = 'C'\n",
    "            secondary.append([p, s])"
   ]
  },
  {
   "cell_type": "code",
   "execution_count": 33,
   "metadata": {},
   "outputs": [
    {
     "name": "stdout",
     "output_type": "stream",
     "text": [
      "[['N', 'C'], ['P', 'H'], ['K', 'H'], ['S', 'H'], ['L', 'H'], ['T', 'S'], ['D', 'C'], ['P', 'H'], ['K', 'H'], ['L', 'H'], ['L', 'H'], ['K', 'H'], ['N', 'C'], ['I', 'H'], ['P', 'H'], ['M', 'H'], ['W', 'H'], ['L', 'H'], ['K', 'H'], ['S', 'H'], ['L', 'H'], ['R', 'T'], ['L', 'C'], ['H', 'H'], ['K', 'H'], ['Y', 'H'], ['S', 'H'], ['D', 'H'], ['A', 'H'], ['L', 'H'], ['S', 'T'], ['G', 'T'], ['T', 'S'], ['P', 'C'], ['W', 'H'], ['I', 'H'], ['E', 'H'], ['L', 'H'], ['I', 'T'], ['Y', 'T'], ['L', 'C'], ['D', 'C'], ['D', 'H'], ['E', 'H'], ['T', 'H'], ['L', 'H'], ['E', 'H'], ['K', 'H'], ['K', 'H'], ['G', 'S'], ['V', 'C'], ['L', 'C'], ['A', 'C'], ['L', 'H'], ['G', 'H'], ['A', 'H'], ['R', 'H'], ['R', 'H'], ['K', 'H'], ['L', 'H'], ['L', 'H'], ['K', 'H'], ['A', 'H'], ['F', 'H'], ['G', 'H'], ['I', 'H'], ['V', 'H'], ['I', 'H'], ['D', 'H'], ['Y', 'H'], ['K', 'H'], ['E', 'H'], ['R', 'H'], ['D', 'T'], ['L', 'C'], ['I', 'S'], ['D', 'C'], ['R', 'G'], ['S', 'G'], ['A', 'G'], ['Y', 'C']]\n"
     ]
    }
   ],
   "source": [
    "print(secondary)"
   ]
  },
  {
   "cell_type": "code",
   "execution_count": 34,
   "metadata": {},
   "outputs": [
    {
     "name": "stdout",
     "output_type": "stream",
     "text": [
      "GSNVFNNTITHPNAGPTSATSTSTSSNGNTPLSSNSSMNPKSLTDPKLLKNIPMWLKSLRLHKYSDALSGTPWIELIYLDDETLEKKGVLALGARRKLLKAFGIVIDYKERDLIDRSAY\n"
     ]
    }
   ],
   "source": [
    "print(example['primary'])"
   ]
  },
  {
   "cell_type": "code",
   "execution_count": 31,
   "metadata": {},
   "outputs": [
    {
     "name": "stdout",
     "output_type": "stream",
     "text": [
      "119 81\n"
     ]
    }
   ],
   "source": [
    "print(len(example['primary']), len(example['secondary']))"
   ]
  },
  {
   "cell_type": "code",
   "execution_count": 35,
   "metadata": {},
   "outputs": [
    {
     "name": "stdout",
     "output_type": "stream",
     "text": [
      "--------------------------------------+++++++++++++++++++++++++++++++++++++++++++++++++++++++++++++++++++++++++++++++++\n"
     ]
    }
   ],
   "source": [
    "print(example['mask'])"
   ]
  },
  {
   "cell_type": "code",
   "execution_count": 30,
   "metadata": {},
   "outputs": [
    {
     "ename": "TypeError",
     "evalue": "can only concatenate list (not \"str\") to list",
     "output_type": "error",
     "traceback": [
      "\u001b[0;31m---------------------------------------------------------------------------\u001b[0m",
      "\u001b[0;31mTypeError\u001b[0m                                 Traceback (most recent call last)",
      "\u001b[0;32m<ipython-input-30-0eb4910c7dd7>\u001b[0m in \u001b[0;36m<module>\u001b[0;34m\u001b[0m\n\u001b[1;32m      5\u001b[0m     \u001b[0mout_file\u001b[0m\u001b[0;34m.\u001b[0m\u001b[0mwrite\u001b[0m\u001b[0;34m(\u001b[0m\u001b[0mexample\u001b[0m\u001b[0;34m[\u001b[0m\u001b[0;34m'primary'\u001b[0m\u001b[0;34m]\u001b[0m \u001b[0;34m+\u001b[0m \u001b[0;34m'\\n'\u001b[0m\u001b[0;34m)\u001b[0m\u001b[0;34m\u001b[0m\u001b[0;34m\u001b[0m\u001b[0m\n\u001b[1;32m      6\u001b[0m     \u001b[0mout_file\u001b[0m\u001b[0;34m.\u001b[0m\u001b[0mwrite\u001b[0m\u001b[0;34m(\u001b[0m\u001b[0;34m'pssm'\u001b[0m\u001b[0;34m)\u001b[0m\u001b[0;34m\u001b[0m\u001b[0;34m\u001b[0m\u001b[0m\n\u001b[0;32m----> 7\u001b[0;31m     \u001b[0mout_file\u001b[0m\u001b[0;34m.\u001b[0m\u001b[0mwrite\u001b[0m\u001b[0;34m(\u001b[0m\u001b[0mexample\u001b[0m\u001b[0;34m[\u001b[0m\u001b[0;34m'pssm'\u001b[0m\u001b[0;34m]\u001b[0m \u001b[0;34m+\u001b[0m \u001b[0;34m'\\n'\u001b[0m\u001b[0;34m)\u001b[0m \u001b[0;31m# Needs to go from list of lists of floats to multiline string\u001b[0m\u001b[0;34m\u001b[0m\u001b[0;34m\u001b[0m\u001b[0m\n\u001b[0m\u001b[1;32m      8\u001b[0m     \u001b[0mout_file\u001b[0m\u001b[0;34m.\u001b[0m\u001b[0mwrite\u001b[0m\u001b[0;34m(\u001b[0m\u001b[0;34m'secondary'\u001b[0m\u001b[0;34m)\u001b[0m\u001b[0;34m\u001b[0m\u001b[0;34m\u001b[0m\u001b[0m\n\u001b[1;32m      9\u001b[0m     \u001b[0mout_file\u001b[0m\u001b[0;34m.\u001b[0m\u001b[0mwrite\u001b[0m\u001b[0;34m(\u001b[0m\u001b[0mexample\u001b[0m\u001b[0;34m[\u001b[0m\u001b[0;34m'secondary'\u001b[0m\u001b[0;34m]\u001b[0m \u001b[0;34m+\u001b[0m \u001b[0;34m'\\n'\u001b[0m\u001b[0;34m)\u001b[0m\u001b[0;34m\u001b[0m\u001b[0;34m\u001b[0m\u001b[0m\n",
      "\u001b[0;31mTypeError\u001b[0m: can only concatenate list (not \"str\") to list"
     ]
    }
   ],
   "source": [
    "with open('data/processed/test.txt', 'w') as out_file:\n",
    "    out_file.write('id')\n",
    "    out_file.write(example['id'] + '\\n')\n",
    "    out_file.write('primary')\n",
    "    out_file.write(example['primary'] + '\\n')\n",
    "    out_file.write('pssm')\n",
    "    out_file.write(example['pssm'] + '\\n') # Needs to go from list of lists of floats to multiline string\n",
    "    out_file.write('secondary')\n",
    "    out_file.write(example['secondary'] + '\\n')\n",
    "    out_file.write('tertiary')\n",
    "    out_file.write(example['tertiary'] + '\\n') # Needs to go from list of lists of floats to multiline string\n",
    "    out_file.write('mask')\n",
    "    out_file.write(example['mask'] + '\\n')"
   ]
  }
 ],
 "metadata": {
  "kernelspec": {
   "display_name": ".ptsp",
   "language": "python",
   "name": ".ptsp"
  },
  "language_info": {
   "codemirror_mode": {
    "name": "ipython",
    "version": 3
   },
   "file_extension": ".py",
   "mimetype": "text/x-python",
   "name": "python",
   "nbconvert_exporter": "python",
   "pygments_lexer": "ipython3",
   "version": "3.6.7"
  }
 },
 "nbformat": 4,
 "nbformat_minor": 2
}

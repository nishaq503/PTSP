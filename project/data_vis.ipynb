{
 "cells": [
  {
   "cell_type": "markdown",
   "metadata": {},
   "source": [
    "# Visualizing CASP Data"
   ]
  },
  {
   "cell_type": "code",
   "execution_count": 1,
   "metadata": {},
   "outputs": [],
   "source": [
    "import matplotlib.pyplot as plt\n",
    "import pandas as pd\n",
    "import numpy as np"
   ]
  },
  {
   "cell_type": "code",
   "execution_count": 2,
   "metadata": {},
   "outputs": [],
   "source": [
    "def make_training_example(lines):\n",
    "    \"\"\"\n",
    "    Takes lines read from file and created a training example.\n",
    "    \"\"\"\n",
    "    example = {}\n",
    "    \n",
    "    example['id'] = lines[1].rstrip()\n",
    "    example['primary'] = lines[3].rstrip()\n",
    "    \n",
    "    pssm = []\n",
    "    for i in range(5, 26):\n",
    "        pssm.append([float(x) for x in lines[i].split()])\n",
    "    example['pssm'] = pssm\n",
    "    \n",
    "    tertiary = []\n",
    "    for i in range(27, 30):\n",
    "        tertiary.append([float(x) for x in lines[i].split()])\n",
    "    example['tertiary'] = tertiary\n",
    "    \n",
    "    example['mask'] = lines[31].rstrip()\n",
    "    \n",
    "    return example"
   ]
  },
  {
   "cell_type": "code",
   "execution_count": 4,
   "metadata": {},
   "outputs": [
    {
     "data": {
      "text/plain": [
       "87573"
      ]
     },
     "execution_count": 4,
     "metadata": {},
     "output_type": "execute_result"
    }
   ],
   "source": [
    "with open('data/text_based/training/training_100', 'r') as raw_data:\n",
    "    lines, examples = [], []\n",
    "    seq_lengths = []\n",
    "    for line in raw_data:\n",
    "        lines.append(line)\n",
    "        if len(lines) == 33:\n",
    "            seq_lengths.append(len(make_training_example(lines)['primary']))\n",
    "            #examples.append(make_training_example(lines))\n",
    "            lines = []\n",
    "len(seq_lengths)"
   ]
  },
  {
   "cell_type": "code",
   "execution_count": 5,
   "metadata": {},
   "outputs": [
    {
     "data": {
      "image/png": "[encoded data removed]",
      "text/plain": [
       "<Figure size 432x288 with 1 Axes>"
      ]
     },
     "metadata": {
      "needs_background": "light"
     },
     "output_type": "display_data"
    }
   ],
   "source": [
    "my_hist = plt.hist(seq_lengths, bins = 100)"
   ]
  },
  {
   "cell_type": "code",
   "execution_count": 6,
   "metadata": {},
   "outputs": [
    {
     "data": {
      "image/png": "[encoded data removed]",
      "text/plain": [
       "<Figure size 432x288 with 1 Axes>"
      ]
     },
     "metadata": {
      "needs_background": "light"
     },
     "output_type": "display_data"
    }
   ],
   "source": [
    "x = [i for i in range(len(seq_lengths))]\n",
    "my_scatter = plt.scatter(x, seq_lengths)"
   ]
  },
  {
   "cell_type": "code",
   "execution_count": 12,
   "metadata": {},
   "outputs": [
    {
     "data": {
      "text/plain": [
       "(20, 183.0, 424.0, 3367)"
      ]
     },
     "execution_count": 12,
     "metadata": {},
     "output_type": "execute_result"
    }
   ],
   "source": [
    "min(seq_lengths), np.median(seq_lengths), np.percentile(seq_lengths, 90), max(seq_lengths)"
   ]
  },
  {
   "cell_type": "code",
   "execution_count": null,
   "metadata": {},
   "outputs": [],
   "source": []
  },
  {
   "cell_type": "code",
   "execution_count": null,
   "metadata": {},
   "outputs": [],
   "source": []
  }
 ],
 "metadata": {
  "kernelspec": {
   "display_name": ".casp",
   "language": "python",
   "name": ".casp"
  },
  "language_info": {
   "codemirror_mode": {
    "name": "ipython",
    "version": 3
   },
   "file_extension": ".py",
   "mimetype": "text/x-python",
   "name": "python",
   "nbconvert_exporter": "python",
   "pygments_lexer": "ipython3",
   "version": "3.6.7"
  }
 },
 "nbformat": 4,
 "nbformat_minor": 2
}

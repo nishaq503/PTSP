{
 "cells": [
  {
   "cell_type": "markdown",
   "metadata": {},
   "source": [
    "# Visualizing CASP Data"
   ]
  },
  {
   "cell_type": "code",
   "execution_count": 1,
   "metadata": {},
   "outputs": [],
   "source": [
    "import matplotlib.pyplot as plt\n",
    "import pandas as pd\n",
    "import numpy as np"
   ]
  },
  {
   "cell_type": "code",
   "execution_count": 13,
   "metadata": {},
   "outputs": [],
   "source": [
    "def make_sample(example):\n",
    "    sample = []\n",
    "    \n",
    "    sample.append(example[1].rstrip())\n",
    "    sample.append(example[3].rstrip())\n",
    "    \n",
    "    pssm = []\n",
    "    for i in range(5, 26):\n",
    "        pssm.append([float(x) for x in example[i].split()])\n",
    "    sample.append(pssm)\n",
    "    \n",
    "    tertiary = []\n",
    "    for i in range(27, 30):\n",
    "        tertiary.append([float(x) for x in example[i].split()])\n",
    "    sample.append(tertiary)\n",
    "    \n",
    "    sample.append(example[31].rstrip())\n",
    "    \n",
    "    return sample"
   ]
  },
  {
   "cell_type": "code",
   "execution_count": 14,
   "metadata": {},
   "outputs": [
    {
     "name": "stdout",
     "output_type": "stream",
     "text": [
      "22344\n"
     ]
    }
   ],
   "source": [
    "with open('data/text_based/training/training_30') as raw_data:\n",
    "    example, samples = [], []\n",
    "    for line in raw_data:\n",
    "        example.append(line)\n",
    "        if len(example) == 33:\n",
    "            samples.append(make_sample(example))\n",
    "            example = []\n",
    "print(len(samples))"
   ]
  },
  {
   "cell_type": "code",
   "execution_count": null,
   "metadata": {},
   "outputs": [],
   "source": []
  }
 ],
 "metadata": {
  "kernelspec": {
   "display_name": ".casp",
   "language": "python",
   "name": ".casp"
  },
  "language_info": {
   "codemirror_mode": {
    "name": "ipython",
    "version": 3
   },
   "file_extension": ".py",
   "mimetype": "text/x-python",
   "name": "python",
   "nbconvert_exporter": "python",
   "pygments_lexer": "ipython3",
   "version": "3.6.7"
  }
 },
 "nbformat": 4,
 "nbformat_minor": 2
}

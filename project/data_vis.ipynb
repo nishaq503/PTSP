{
 "cells": [
  {
   "cell_type": "markdown",
   "metadata": {},
   "source": [
    "# Visualizing CASP Data"
   ]
  },
  {
   "cell_type": "code",
   "execution_count": 1,
   "metadata": {},
   "outputs": [],
   "source": [
    "import matplotlib.pyplot as plt\n",
    "import pandas as pd\n",
    "import numpy as np\n",
    "\n",
    "from skbio.alignment import global_pairwise_align_protein\n",
    "from skbio import Protein"
   ]
  },
  {
   "cell_type": "code",
   "execution_count": 2,
   "metadata": {},
   "outputs": [],
   "source": [
    "def get_tertiary_matrix(tertiary, i):\n",
    "    x = tertiary[0][3 * i], tertiary[0][3 * i + 1], tertiary[0][3 * i + 2]\n",
    "    y = tertiary[1][3 * i], tertiary[1][3 * i + 1], tertiary[1][3 * i + 2]\n",
    "    z = tertiary[2][3 * i], tertiary[2][3 * i + 1], tertiary[2][3 * i + 2]\n",
    "    return x, y, z"
   ]
  },
  {
   "cell_type": "code",
   "execution_count": 3,
   "metadata": {},
   "outputs": [],
   "source": [
    "def make_training_example(lines):\n",
    "    \"\"\" Takes lines read from file and created a training example. \"\"\"\n",
    "\n",
    "    example = {'id': lines[1].rstrip(),\n",
    "               'primary': lines[3],\n",
    "               'mask': lines[31].rstrip()}\n",
    "\n",
    "    pssm = []\n",
    "    for i in range(5, 26):\n",
    "        pssm.append(lines[i])\n",
    "    example['pssm'] = '\\n'.join(pssm)\n",
    "    \n",
    "    tertiary = []\n",
    "    for i in range(27, 30):\n",
    "        tertiary.append(lines[i])\n",
    "    example['tertiary'] = '\\n'.join(tertiary)\n",
    "\n",
    "    return example"
   ]
  },
  {
   "cell_type": "code",
   "execution_count": 4,
   "metadata": {},
   "outputs": [],
   "source": [
    "def get_secondary(file_name):\n",
    "    with open('data/dssp/' + file_name) as raw_dssp:\n",
    "        partial_primary, secondary = [], []\n",
    "        flag = False\n",
    "        for line in raw_dssp:\n",
    "            if flag or ('#' in line):\n",
    "                if not flag:\n",
    "                    flag = True\n",
    "                    continue\n",
    "            if flag:\n",
    "                if line[7:10] == '   ':\n",
    "                    continue\n",
    "                p, s = line[13], line[16]\n",
    "                partial_primary.append(p)\n",
    "                secondary.append(s)\n",
    "    partial_primary = ''.join(partial_primary)\n",
    "    secondary = ''.join(secondary)\n",
    "    return partial_primary, secondary"
   ]
  },
  {
   "cell_type": "code",
   "execution_count": 5,
   "metadata": {},
   "outputs": [],
   "source": [
    "def align_secondary(primary, partial_primary, secondary):\n",
    "    valid_aa = ['V', 'A', 'I', 'Y', 'N', 'P', 'X', 'K', '.', 'T', 'W', 'Z', 'H', '*', 'E', 'L', 'G', 'Q', '-', 'B', 'F', 'S', 'D', 'C', 'M', 'R']\n",
    "    new_primary = ''\n",
    "    for aa in primary:\n",
    "        if aa not in valid_aa:\n",
    "            new_primary += '*'\n",
    "        else:\n",
    "            new_primary += aa\n",
    "    new_partial_primary = ''\n",
    "    for aa in partial_primary:\n",
    "        if aa not in valid_aa:\n",
    "            new_partial_primary += '*'\n",
    "        else:\n",
    "            new_partial_primary += aa\n",
    "    alignment = global_pairwise_align_protein(Protein(new_primary), Protein(new_partial_primary))\n",
    "    aligned_primary = str(alignment[0][1]).rstrip()\n",
    "    result = []\n",
    "    i = 0\n",
    "    dssp_structures = ['H', 'B', 'E', 'G', 'I', 'T', 'S']\n",
    "    for aa in aligned_primary:\n",
    "        if i >= len(secondary):\n",
    "            result.append('C')\n",
    "            continue\n",
    "        if aa == '-':\n",
    "            result.append('C')\n",
    "        elif secondary[i] in dssp_structures:\n",
    "            result.append(secondary[i])\n",
    "            i += 1\n",
    "        else:\n",
    "            result.append('C')\n",
    "            i += 1\n",
    "    return ''.join(result), str(alignment[0][1]).rstrip()"
   ]
  },
  {
   "cell_type": "code",
   "execution_count": 7,
   "metadata": {},
   "outputs": [
    {
     "name": "stderr",
     "output_type": "stream",
     "text": [
      "/home/nishaq/Documents/research/PTSP/.ptsp/lib/python3.6/site-packages/skbio/alignment/_pairwise.py:599: EfficiencyWarning: You're using skbio's python implementation of Needleman-Wunsch alignment. This is known to be very slow (e.g., thousands of times slower than a native C implementation). We'll be adding a faster version soon (see https://github.com/biocore/scikit-bio/issues/254 to track progress on this).\n",
      "  \"to track progress on this).\", EfficiencyWarning)\n"
     ]
    },
    {
     "name": "stdout",
     "output_type": "stream",
     "text": [
      "GSNVFNNTITHPNAGPTSATSTSTSSNGNTPLSSNSSMNPKSLTDPKLLKNIPMWLKSLRLHKYSDALSGTPWIELIYLDDETLEKKGVLALGARRKLLKAFGIVIDYKERDLIDRSAY\n",
      "--------------------------------------NPKSLTDPKLLKNIPMWLKSLRLHKYSDALSGTPWIELIYLDDETLEKKGVLALGARRKLLKAFGIVIDYKERDLIDRSAY\n",
      "CCCCCCCCCCCCCCCCCCCCCCCCCCCCCCCCCCCCCCCHHHHSCHHHHHCHHHHHHHHTCHHHHHHHTTSCHHHHTTCCHHHHHHHSCCCHHHHHHHHHHHHHHHHHHHHTCSCGGGC\n",
      "\n",
      "SLSSTELGDLFWSWLRDGLREGDIPVNTADACVHLTCGFVFISVPGVFFLFLKSHSRSCSSGLKESGRKEQVQAAFEKMRKHRVSDSRRFWQCCLYEEPGGRGRYKKLTGYLIKMSEIYANGNFPDDSLFLKVIN\n",
      "-LSSTELGDLFWSWLRDGLREGDIPVNTADACVHLTCGFVFISVPGVFFLFLKSH-----------GRKEQVQAAFEKXRKHRVSDSRRFWQCCLYEEPGGRGRYKKLTGYLIKXSEIY-NGNFPDDSLFLKVI-\n",
      "CCCHHHHHHHHHHHHHHHHHTTCSCBSSTTCSEEEETTEEEEETTHHHHHHHHHCCCCCCCCCCCCCHHHHHHHHHHTTCCSCCBTTBCCEEEEEEEETTTEEEEEEEEEEEEEHHHHCCCCCCCCCCSSEEECC\n",
      "\n",
      "MAHSSATAGPQADYSGEIAELYDLVHQGKGKDYHREAADLAALVRRHSPKAASLLDVACGTGMHLRHLADSFGTVEGLELSADMLAIARRRNPDAVLHHGDMRDFSLGRRFSAVTCMFSSIGHLAGQAELDAALERFAAHVLPDGVVVVEPWWFPENFTPGYVAAGTVEAGGTTVTRVSHSSREGEATRIEVHYLVAGPDRGITHHEESHRITLFTREQYERAFTAAGLSVEFMPGGPSGRGLFTGLPGAKGETRLEHHHHHH\n",
      "---------PQADYSGEIAELYDLVHQGKGKDYHREAADLAALVRRHSPKAASLLDVACGTGMHLRHLADSFGTVEGLELSADMLAIARRRNPDAVLHHGDMRDFSLGRRFSAVTCMFSSIGHLAGQAELDAALERFAAHVLPDGVVVVEPWWFPENFTPGYVAAGTVEAGGTTVTRVSHSSREGEATRIEVHYLVAGPDRGITHHEESHRITLFTREQYERAFTAAGLSVEFMPGGPSGRGLFTGLPGA-------------\n",
      "CCCCCCCCCCBCSCCHHHHHHHHHHHHHTTCCHHHHHHHHHHHHHHHCTTCCEEEEETCTTSHHHHHHTTTSSEEEEEESCHHHHHHHHHHCTTSEEEECCTTTCCCSCCEEEEEECTTGGGGSCHHHHHHHHHHHHHHTEEEEEEEEECCCCCTTTCCTTEEEEEEEEETTEEEEEEEEEEEETTEEEEEEEEEEEETTTEEEEEEEEEEEECCCHHHHHHHHHHTTEEEEEESSTTTSSCEEEEEECCCCCCCCCCCCCCC\n",
      "\n",
      "MGHHHHHHSHMAAAMANNLQKGSAGPMRLYVGSLHFNITEDMLRGIFEPFGRIESIQLMMDSETGRSKGYGFITFSDSECAKKALEQLNGFELAGRPMKVGHVTERTD\n",
      "MGHHHHHHSHMAAAMANNLQKGSAGPMRLYVGSLHFNITEDMLRGIFEPFGRIESIQLMMDSETGRSKGYGFITFSDSECAKKALEQLNGFELAGRPMKVGHVTERTD\n",
      "CCCCCCCCSCSSSSSCCSSCCSCSSCEEEEEECCCSSCCHHHHHHHHTTTSCEEEEEEEEETTTTEEEEEEEEEESCHHHHHHHHHHHTTCCSSSSCCEEECSCSSCC\n",
      "\n",
      "HGMSQPACTARRRTRVLILGVNGFIGNHLTERLLREDHYEVYGLDIGSDAISRFLNHPHFHFVEGDISIHSEWIEYHVKKCDVVLPLVAIATPIEYTRNPLRVFELDFEENLRIIRYCVKYRKRIIFPSTSEVYGMCSDKYFDEDHSNLIVGPVNKPRWIYSVSKQLLDRVIWAYGEKEGLQFTLFRPFNWMGPRLDNLNAARIGSSRAITQLILNLVEGSPIKLIDGGKQKRCFTDIRDGIEALYRIIENAGNRCDGEIINIGNPENEASIEELGEMLLASFEKHPLRHHFPPFAGFRVVESSSYYGKGYQDVEHRKPSIRNAHRCLDWEPKIDMQETIDETLDFFLRTVDLTDKPS\n",
      "------------RTRVLILGVNGFIGNHLTERLLREDHYEVYGLDIGSDAISRFLNHPHFHFVEGDISIHSEWIEYHVKKCDVVLPLVAIATPIEYTRNPLRVFELDFEENLRIIRYCVKYRKRIIFPSTSEVYGMCSDKYFDEDHSNLIVGPVNKPRWIYSVSKQLLDRVIWAYGEKEGLQFTLFRPFNWMGPRLDNLNAARIGSSRAITQLILNLVEGSPIKLIDGGKQKRCFTDIRDGIEALYRIIENAGNRCDGEIINIGNPENEASIEELGEMLLASFEKHPLRHHFPPFAGFRVVES----------VEHRKPSIRNAHRCLDWEPKIDMQETIDETLDFFLRTVDLT----\n",
      "CCCCCCCCCCCCCEEEEEETCSSHHHHHHHHHHHHSSSEEEEEEESCCTTSGGGTTCTTEEEEECCTTTCSHHHHHHHHHCSEEEECBCCCCHHHHHHSHHHHHIIIIIIHHHHHHHHHHTTCEEEEECCGGGGBTCCCSSBCTTTCCCBCCCTTCGGGHHHHHHHHHHHHHHHHHHHHCCCEEEEEECSEECSSCCCTTCSBSCBCHHHHHHHHHHHHTCCEEEETTSCCEEECEEHHHHHHHHHHHHHCGGGTTTTEEEEECCTTCEEEHHHHHHHHHHHHHTSTTGGGSCCCCCEEEECCCCCCCCCCCCCCCCCBCCHHHHHHHCCCCCSCHHHHHHHHHHHHHHHSCCCCCCC\n",
      "\n",
      "AGAGKAGEGEIPAPLAGTVSKILVKEGDTVKAGQTVLVLEAMKMETEINAPTDGKVEKVLVKERDAVQGGQGLIKIG\n",
      "AGAGKAGEGEIPAPLAGTVSKILVKEGDTVKAGQTVLVLEAMKMETEINAPTDGKVEKVLVKERDAVQGGQGLIKIG\n",
      "CCSSCCCSSEEEBSSSCEEEEECCCTTCEECTTSEEEEEEETTEEEEEECSSSEEEEEECCCTTCBCCBTSEEEEEC\n",
      "\n"
     ]
    }
   ],
   "source": [
    "with open('data/casp11/training_100') as raw_data:\n",
    "    lines = []\n",
    "    count = 0\n",
    "    for line in raw_data:\n",
    "        lines.append(line)\n",
    "        if len(lines) == 33:\n",
    "            example = make_training_example(lines)\n",
    "            lines = []\n",
    "            partial_primary, secondary = get_secondary(example['id'][:4].lower() + '.dssp')\n",
    "            if len(partial_primary) > len(example['primary']):\n",
    "                continue\n",
    "            else:\n",
    "                count += 1\n",
    "            aligned_secondary, aligned_primary = align_secondary(example['primary'].rstrip(), partial_primary.rstrip(), secondary.rstrip())\n",
    "            example['secondary'] = aligned_secondary\n",
    "            print(example['primary'] + aligned_primary + '\\n' + example['secondary'] + '\\n')\n",
    "            with open('data/processed/train_100', 'a') as out_file:\n",
    "                out_file.write(example['id'] + '\\n')\n",
    "                out_file.write('\\n')\n",
    "                out_file.write(example['primary'] + '\\n')\n",
    "                out_file.write('\\n')\n",
    "                out_file.write(example['pssm'] + '\\n')\n",
    "                out_file.write('\\n')\n",
    "                out_file.write(example['secondary'] + '\\n')\n",
    "                out_file.write('\\n')\n",
    "                out_file.write(example['tertiary'] + '\\n')\n",
    "                out_file.write('\\n')\n",
    "            if count > 5:\n",
    "                break"
   ]
  },
  {
   "cell_type": "code",
   "execution_count": null,
   "metadata": {},
   "outputs": [],
   "source": []
  }
 ],
 "metadata": {
  "kernelspec": {
   "display_name": ".ptsp",
   "language": "python",
   "name": ".ptsp"
  },
  "language_info": {
   "codemirror_mode": {
    "name": "ipython",
    "version": 3
   },
   "file_extension": ".py",
   "mimetype": "text/x-python",
   "name": "python",
   "nbconvert_exporter": "python",
   "pygments_lexer": "ipython3",
   "version": "3.6.7"
  }
 },
 "nbformat": 4,
 "nbformat_minor": 2
}
